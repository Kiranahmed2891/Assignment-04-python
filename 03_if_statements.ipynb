{
  "nbformat": 4,
  "nbformat_minor": 0,
  "metadata": {
    "colab": {
      "provenance": [],
      "authorship_tag": "ABX9TyNGpf+s7FuBvm7w9cW9ohbA",
      "include_colab_link": true
    },
    "kernelspec": {
      "name": "python3",
      "display_name": "Python 3"
    },
    "language_info": {
      "name": "python"
    }
  },
  "cells": [
    {
      "cell_type": "markdown",
      "metadata": {
        "id": "view-in-github",
        "colab_type": "text"
      },
      "source": [
        "<a href=\"https://colab.research.google.com/github/Kiranahmed2891/Assignment-04-python/blob/main/03_if_statements.ipynb\" target=\"_parent\"><img src=\"https://colab.research.google.com/assets/colab-badge.svg\" alt=\"Open In Colab\"/></a>"
      ]
    },
    {
      "cell_type": "code",
      "execution_count": 1,
      "metadata": {
        "colab": {
          "base_uri": "https://localhost:8080/"
        },
        "id": "CaZ6_Qz6Zv0R",
        "outputId": "d71cedf8-a074-47b0-a898-34755cd81c00"
      },
      "outputs": [
        {
          "output_type": "stream",
          "name": "stdout",
          "text": [
            "01_print_events\n",
            "0\n",
            "2\n",
            "4\n",
            "6\n",
            "8\n",
            "10\n",
            "12\n",
            "14\n",
            "16\n",
            "18\n",
            "20\n",
            "22\n",
            "24\n",
            "26\n",
            "28\n",
            "30\n",
            "32\n",
            "34\n",
            "36\n",
            "38\n",
            "40\n",
            "42\n",
            "44\n",
            "46\n",
            "48\n",
            "50\n",
            "52\n",
            "54\n",
            "56\n",
            "58\n",
            "60\n",
            "62\n",
            "64\n",
            "66\n",
            "68\n",
            "70\n",
            "72\n",
            "74\n",
            "76\n",
            "78\n"
          ]
        }
      ],
      "source": [
        "print(\"01_print_events\")\n",
        "\n",
        "def even():\n",
        "  for i in range(40):\n",
        "    even = i*2\n",
        "    print(even)\n",
        "  #  print(\"Here is 20 even numbers are: \",i * 2)\n",
        "\n",
        "\n",
        "if __name__ == \"__main__\":\n",
        "  even()"
      ]
    },
    {
      "cell_type": "code",
      "source": [
        "print(\"02_international_voting_age\")\n",
        "\n",
        "Peturksbouipo:int = 16\n",
        "Stanlau:int = 25\n",
        "Mayengua:int = 48\n",
        "age:int = int(input(\"How old are you?\"))\n",
        "\n",
        "def main():\n",
        "\n",
        "  if age >= Peturksbouipo:\n",
        "    print(f\"Your age is {age}.you are eligible to vote in Peturksbouipo!\")\n",
        "  else:\n",
        "    print(f\"Your age is {age}.you are not eligible to vote in Peturksbouipo!\")\n",
        "\n",
        "\n",
        "if age >= Stanlau:\n",
        "      print(f\"Your age is {age}.you are eligible to vote in Stanlau!\")\n",
        "else:\n",
        "      print(f\"Your age is {age}.you are not eligible to vote in Stanlau!\")\n",
        "\n",
        "if age >= Mayengua:\n",
        "      print(f\"Your age is {age}.you are eligible to vote in Mayengua!\")\n",
        "else:\n",
        "      print(f\"Your age is {age}.you are not eligible to vote in Mayengua!\")\n",
        "\n",
        "if __name__ == \"__main__\":\n",
        "  main()"
      ],
      "metadata": {
        "colab": {
          "base_uri": "https://localhost:8080/"
        },
        "id": "xyxoQNL1aA6S",
        "outputId": "d0473b5d-9a88-4fc7-99f3-7e04398c14da"
      },
      "execution_count": 2,
      "outputs": [
        {
          "output_type": "stream",
          "name": "stdout",
          "text": [
            "02_international_voting_age\n",
            "How old are you?28\n",
            "Your age is 28.you are eligible to vote in Stanlau!\n",
            "Your age is 28.you are not eligible to vote in Mayengua!\n",
            "Your age is 28.you are eligible to vote in Peturksbouipo!\n"
          ]
        }
      ]
    },
    {
      "cell_type": "code",
      "source": [
        "print(\"03_leap_year\")\n",
        "\n",
        "def leap_year():\n",
        "  year:int = int(input(\"Enter as year.\"))\n",
        "\n",
        "  if year % 4 == 0:\n",
        "    if year % 100 == 0:\n",
        "      if year % 400 == 0:\n",
        "        print(f'{year} is a leap year.')\n",
        "      else:\n",
        "        print(f\"{year} is not a leap year.\")\n",
        "    else:\n",
        "      print(f'{year} is not a leap year.')\n",
        "  else:\n",
        "    print(f\"{year} is not a leap year.\")\n",
        "\n",
        "if __name__ == \"__main__\":\n",
        "  leap_year()"
      ],
      "metadata": {
        "colab": {
          "base_uri": "https://localhost:8080/"
        },
        "id": "hBgWqczyakXh",
        "outputId": "473cd079-1d2a-4776-bb35-9cc551988464"
      },
      "execution_count": 3,
      "outputs": [
        {
          "output_type": "stream",
          "name": "stdout",
          "text": [
            "03_leap_year\n",
            "Enter as year.2025\n",
            "2025 is not a leap year.\n"
          ]
        }
      ]
    },
    {
      "cell_type": "code",
      "source": [
        "import random\n",
        "\n",
        "def main():\n",
        "  for i in range(10):\n",
        "    num:list[int] =  random.randint(1,100)\n",
        "    print(num)\n",
        "\n",
        "if __name__ == \"__main__\":\n",
        "  main()\n"
      ],
      "metadata": {
        "colab": {
          "base_uri": "https://localhost:8080/"
        },
        "id": "nkMdZtr1at2P",
        "outputId": "1b2f5207-dbad-4cb6-d89c-44e75fcca36f"
      },
      "execution_count": 4,
      "outputs": [
        {
          "output_type": "stream",
          "name": "stdout",
          "text": [
            "98\n",
            "43\n",
            "47\n",
            "83\n",
            "12\n",
            "16\n",
            "54\n",
            "35\n",
            "42\n",
            "83\n"
          ]
        }
      ]
    }
  ]
}