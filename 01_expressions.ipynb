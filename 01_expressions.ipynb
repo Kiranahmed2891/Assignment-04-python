{
  "cells": [
    {
      "cell_type": "markdown",
      "metadata": {
        "id": "view-in-github",
        "colab_type": "text"
      },
      "source": [
        "<a href=\"https://colab.research.google.com/github/Kiranahmed2891/Assignment-04-python/blob/main/01_expressions.ipynb\" target=\"_parent\"><img src=\"https://colab.research.google.com/assets/colab-badge.svg\" alt=\"Open In Colab\"/></a>"
      ]
    },
    {
      "cell_type": "code",
      "execution_count": null,
      "metadata": {
        "colab": {
          "base_uri": "https://localhost:8080/"
        },
        "id": "o3YizxFzI16a",
        "outputId": "7b0f84d1-f914-4102-fb60-935f75acba17"
      },
      "outputs": [
        {
          "name": "stdout",
          "output_type": "stream",
          "text": [
            "01_dicesimulator\n",
            "die1 in main() start as: 10\n",
            "Total of two dies: 5\n",
            "Total of two dies: 10\n",
            "Total of two dies: 8\n",
            "die1 in main() is: 10\n"
          ]
        }
      ],
      "source": [
        "import random\n",
        "print(\"01_dicesimulator\")\n",
        "\n",
        "def roll_dice():\n",
        "  die1:int = random.randint(1,6)\n",
        "  die2:int = random.randint(1,6)\n",
        "  total:int = die1 + die2\n",
        "  print(f'Total of two dies: {total}')\n",
        "\n",
        "def main():\n",
        "  die1:int = 10\n",
        "  print(\"die1 in main() start as: \" + str(die1))\n",
        "  roll_dice()\n",
        "  roll_dice()\n",
        "  roll_dice()\n",
        "  print(\"die1 in main() is: \" + str(die1))\n",
        "\n",
        "if __name__ == \"__main__\":\n",
        "  main()"
      ]
    },
    {
      "cell_type": "code",
      "execution_count": null,
      "metadata": {
        "colab": {
          "base_uri": "https://localhost:8080/"
        },
        "id": "1a-WJfScKHgL",
        "outputId": "142567d1-4556-4557-a44f-cdd8bb182a74"
      },
      "outputs": [
        {
          "name": "stdout",
          "output_type": "stream",
          "text": [
            "02_e=mc2\n",
            "Enter Kilos of mass: 20\n",
            "e = m*c^2\n",
            "Mass = 20.0 kg\n",
            "C = 299792458 m/s\n",
            "e = 1.7975103574736353e+18 jules\n"
          ]
        }
      ],
      "source": [
        "print(\"02_e=mc2\")\n",
        "\n",
        "def energy():\n",
        "  c:float = 299792458\n",
        "  m:float = float(input(\"Enter Kilos of mass: \"))\n",
        "  print(\"e = m*c^2\")\n",
        "  print(\"Mass = \" + str(m) + \" kg\")\n",
        "  print(\"C = \"+ str(c) + \" m/s\")\n",
        "  print(\"e = \" + str(m * c ** 2) + \" jules\")\n",
        "\n",
        "if __name__ == \"__main__\":\n",
        "  energy()\n"
      ]
    },
    {
      "cell_type": "code",
      "execution_count": null,
      "metadata": {
        "colab": {
          "background_save": true,
          "base_uri": "https://localhost:8080/"
        },
        "id": "ThAuuOElLA-g",
        "outputId": "0ff14561-b490-4171-9b0c-48792752c4d6"
      },
      "outputs": [
        {
          "name": "stdout",
          "output_type": "stream",
          "text": [
            "03_feet_to_inches\n",
            "There are 264 inches in 22 feet.\n"
          ]
        }
      ],
      "source": [
        "print(\"03_feet_to_inches\")\n",
        "\n",
        "inch: int = 12\n",
        "\n",
        "def foot():\n",
        "  feet:int = int(input(\"Enter feet and i will convert into inches. \"))\n",
        "  print(f'There are {inch * feet} inches in {feet} feet.')\n",
        "\n",
        "if __name__== \"__main__\":\n",
        "  foot()"
      ]
    },
    {
      "cell_type": "code",
      "source": [
        "import math\n",
        "print(\"04_pythagorean_theorem\")\n",
        "\n",
        "def triangle():\n",
        "  ab:float = float(input(\"Enter the length of the side ab. \"))\n",
        "  ac:float = float(input(\"Enter the length of the side ac. \"))\n",
        "  bc:float = math.sqrt(ab**2 + ac**2)\n",
        "  print(f'The length of bc (the hypothenuse is : {bc})')\n",
        "\n",
        "if __name__==\"__main__\":\n",
        "  triangle()"
      ],
      "metadata": {
        "colab": {
          "base_uri": "https://localhost:8080/"
        },
        "id": "oHyrndHgLyAC",
        "outputId": "900659fb-a8d9-4723-c1b1-11b23cfde2cd"
      },
      "execution_count": 4,
      "outputs": [
        {
          "output_type": "stream",
          "name": "stdout",
          "text": [
            "04_pythagorean_theorem\n",
            "Enter the length of the side ab. 20\n",
            "Enter the length of the side ac. 10\n",
            "The length of bc (the hypothenuse is : 22.360679774997898)\n"
          ]
        }
      ]
    },
    {
      "cell_type": "code",
      "source": [
        "print(\"05_remainder_division\")\n",
        "\n",
        "def reminder():\n",
        "  num1:int = int(input(\"Enter an integer to be divided: \"))\n",
        "  num2:int = int(input(\"Enter an integer to divide by: \"))\n",
        "  quotient:int = num1 // num2\n",
        "  remainder:int = num1 % num2\n",
        "  print(f'The result of following division is {quotient} with the reminder of {remainder}')\n",
        "\n",
        "if __name__ == \"__main__\":\n",
        "  reminder()"
      ],
      "metadata": {
        "colab": {
          "base_uri": "https://localhost:8080/"
        },
        "id": "Wt40R3YSL-YL",
        "outputId": "1b1f2cad-0bbf-468d-da49-fd138eac2cdf"
      },
      "execution_count": 5,
      "outputs": [
        {
          "output_type": "stream",
          "name": "stdout",
          "text": [
            "05_remainder_division\n",
            "Enter an integer to be divided: 10\n",
            "Enter an integer to divide by: 4\n",
            "The result of following division is 2 with the reminder of 2\n"
          ]
        }
      ]
    },
    {
      "cell_type": "code",
      "source": [
        "import random\n",
        "print(\"06_rolldice.\")\n",
        "\n",
        "def dice():\n",
        "  die1:int= random.randint(1,6)\n",
        "  die2:int  = random.randint(1,6)\n",
        "  total:int = int(die1 + die2)\n",
        "  print(\"First die: \" + str(die1))\n",
        "  print(\"Second die:\" + str(die2))\n",
        "  print(f'Total of two dies : {total}' )\n",
        "\n",
        "if __name__==\"__main__\":\n",
        "  dice()"
      ],
      "metadata": {
        "colab": {
          "base_uri": "https://localhost:8080/"
        },
        "id": "4zJC3WVDMZdy",
        "outputId": "9585204a-11f9-400a-a9f7-5b174121b6c2"
      },
      "execution_count": 6,
      "outputs": [
        {
          "output_type": "stream",
          "name": "stdout",
          "text": [
            "06_rolldice.\n",
            "First die: 4\n",
            "Second die:3\n",
            "Total of two dies : 7\n"
          ]
        }
      ]
    },
    {
      "cell_type": "code",
      "source": [
        "print(\"06_seconds_in_year\")\n",
        "\n",
        "days_in_year:int = 365\n",
        "hours_per_day:int = 24\n",
        "minutes_per_hour:int = 60\n",
        "seconds_per_minute:int = 60\n",
        "\n",
        "def seconds():\n",
        "  print(f'There are {days_in_year * hours_per_day * minutes_per_hour * seconds_per_minute} seconds in a year!')\n",
        "\n",
        "if __name__==\"__main__\":\n",
        "  seconds()"
      ],
      "metadata": {
        "colab": {
          "base_uri": "https://localhost:8080/"
        },
        "id": "Y2MsXKm2Mm1a",
        "outputId": "f10c9c91-c628-476b-987c-75290b048bbe"
      },
      "execution_count": 7,
      "outputs": [
        {
          "output_type": "stream",
          "name": "stdout",
          "text": [
            "06_seconds_in_year\n",
            "There are 31536000 seconds in a year!\n"
          ]
        }
      ]
    },
    {
      "cell_type": "code",
      "source": [
        "print(\"7_tiny_mad_lib\")\n",
        "\n",
        "def mad_lib():\n",
        "  noun:str = str(input(\"Enter a noun: \"))\n",
        "  adjective:str = str(input(\"Enter an adjective: \"))\n",
        "  verb:str = str(input(\"Enter a verb: \"))\n",
        "  print(f\"Do you {verb} your {adjective} {noun}?\")\n",
        "\n",
        "\n",
        "\n",
        "if __name__==\"__main__\":\n",
        "  mad_lib()"
      ],
      "metadata": {
        "colab": {
          "base_uri": "https://localhost:8080/"
        },
        "id": "AqXqoX4SMwEj",
        "outputId": "c202beb2-d620-4610-cadb-292088449330"
      },
      "execution_count": 8,
      "outputs": [
        {
          "output_type": "stream",
          "name": "stdout",
          "text": [
            "7_tiny_mad_lib\n",
            "Enter a noun: kiran\n",
            "Enter an adjective: cool\n",
            "Enter a verb: code\n",
            "Do you code your cool kiran?\n"
          ]
        }
      ]
    }
  ],
  "metadata": {
    "colab": {
      "provenance": [],
      "authorship_tag": "ABX9TyMRZ2HMDf3224ax1+K6PL9p",
      "include_colab_link": true
    },
    "kernelspec": {
      "display_name": "Python 3",
      "name": "python3"
    },
    "language_info": {
      "name": "python"
    }
  },
  "nbformat": 4,
  "nbformat_minor": 0
}